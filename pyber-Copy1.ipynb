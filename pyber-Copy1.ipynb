{
 "cells": [
  {
   "cell_type": "code",
   "execution_count": 71,
   "metadata": {},
   "outputs": [
    {
     "data": {
      "text/html": [
       "<div>\n",
       "<style scoped>\n",
       "    .dataframe tbody tr th:only-of-type {\n",
       "        vertical-align: middle;\n",
       "    }\n",
       "\n",
       "    .dataframe tbody tr th {\n",
       "        vertical-align: top;\n",
       "    }\n",
       "\n",
       "    .dataframe thead th {\n",
       "        text-align: right;\n",
       "    }\n",
       "</style>\n",
       "<table border=\"1\" class=\"dataframe\">\n",
       "  <thead>\n",
       "    <tr style=\"text-align: right;\">\n",
       "      <th></th>\n",
       "      <th>city</th>\n",
       "      <th>driver_count</th>\n",
       "      <th>type</th>\n",
       "    </tr>\n",
       "  </thead>\n",
       "  <tbody>\n",
       "    <tr>\n",
       "      <th>0</th>\n",
       "      <td>Richardfort</td>\n",
       "      <td>38</td>\n",
       "      <td>Urban</td>\n",
       "    </tr>\n",
       "    <tr>\n",
       "      <th>1</th>\n",
       "      <td>Williamsstad</td>\n",
       "      <td>59</td>\n",
       "      <td>Urban</td>\n",
       "    </tr>\n",
       "    <tr>\n",
       "      <th>2</th>\n",
       "      <td>Port Angela</td>\n",
       "      <td>67</td>\n",
       "      <td>Urban</td>\n",
       "    </tr>\n",
       "    <tr>\n",
       "      <th>3</th>\n",
       "      <td>Rodneyfort</td>\n",
       "      <td>34</td>\n",
       "      <td>Urban</td>\n",
       "    </tr>\n",
       "    <tr>\n",
       "      <th>4</th>\n",
       "      <td>West Robert</td>\n",
       "      <td>39</td>\n",
       "      <td>Urban</td>\n",
       "    </tr>\n",
       "  </tbody>\n",
       "</table>\n",
       "</div>"
      ],
      "text/plain": [
       "           city  driver_count   type\n",
       "0   Richardfort            38  Urban\n",
       "1  Williamsstad            59  Urban\n",
       "2   Port Angela            67  Urban\n",
       "3    Rodneyfort            34  Urban\n",
       "4   West Robert            39  Urban"
      ]
     },
     "execution_count": 71,
     "metadata": {},
     "output_type": "execute_result"
    }
   ],
   "source": [
    "%matplotlib inline\n",
    "# Dependencies and Setup\n",
    "import matplotlib.pyplot as plt\n",
    "import pandas as pd\n",
    "import numpy as np\n",
    "\n",
    "# File to Load (Remember to change these)\n",
    "city_data_to_load = \"data/city_data.csv\"\n",
    "ride_data_to_load = \"data/ride_data.csv\"\n",
    "\n",
    "# Read the City and Ride Data\n",
    "city_data = pd.read_csv(city_data_to_load)\n",
    "city_data.head()"
   ]
  },
  {
   "cell_type": "code",
   "execution_count": 72,
   "metadata": {},
   "outputs": [
    {
     "data": {
      "text/html": [
       "<div>\n",
       "<style scoped>\n",
       "    .dataframe tbody tr th:only-of-type {\n",
       "        vertical-align: middle;\n",
       "    }\n",
       "\n",
       "    .dataframe tbody tr th {\n",
       "        vertical-align: top;\n",
       "    }\n",
       "\n",
       "    .dataframe thead th {\n",
       "        text-align: right;\n",
       "    }\n",
       "</style>\n",
       "<table border=\"1\" class=\"dataframe\">\n",
       "  <thead>\n",
       "    <tr style=\"text-align: right;\">\n",
       "      <th></th>\n",
       "      <th>city</th>\n",
       "      <th>date</th>\n",
       "      <th>fare</th>\n",
       "      <th>ride_id</th>\n",
       "      <th>driver_count</th>\n",
       "      <th>type</th>\n",
       "    </tr>\n",
       "  </thead>\n",
       "  <tbody>\n",
       "    <tr>\n",
       "      <th>0</th>\n",
       "      <td>Lake Jonathanshire</td>\n",
       "      <td>2018-01-14 10:14:22</td>\n",
       "      <td>13.83</td>\n",
       "      <td>5739410935873</td>\n",
       "      <td>5</td>\n",
       "      <td>Urban</td>\n",
       "    </tr>\n",
       "    <tr>\n",
       "      <th>1</th>\n",
       "      <td>Lake Jonathanshire</td>\n",
       "      <td>2018-04-07 20:51:11</td>\n",
       "      <td>31.25</td>\n",
       "      <td>4441251834598</td>\n",
       "      <td>5</td>\n",
       "      <td>Urban</td>\n",
       "    </tr>\n",
       "    <tr>\n",
       "      <th>2</th>\n",
       "      <td>Lake Jonathanshire</td>\n",
       "      <td>2018-03-09 23:45:55</td>\n",
       "      <td>19.89</td>\n",
       "      <td>2389495660448</td>\n",
       "      <td>5</td>\n",
       "      <td>Urban</td>\n",
       "    </tr>\n",
       "    <tr>\n",
       "      <th>3</th>\n",
       "      <td>Lake Jonathanshire</td>\n",
       "      <td>2018-04-07 18:09:21</td>\n",
       "      <td>24.28</td>\n",
       "      <td>7796805191168</td>\n",
       "      <td>5</td>\n",
       "      <td>Urban</td>\n",
       "    </tr>\n",
       "    <tr>\n",
       "      <th>4</th>\n",
       "      <td>Lake Jonathanshire</td>\n",
       "      <td>2018-01-02 14:14:50</td>\n",
       "      <td>13.89</td>\n",
       "      <td>424254840012</td>\n",
       "      <td>5</td>\n",
       "      <td>Urban</td>\n",
       "    </tr>\n",
       "  </tbody>\n",
       "</table>\n",
       "</div>"
      ],
      "text/plain": [
       "                 city                 date   fare        ride_id  \\\n",
       "0  Lake Jonathanshire  2018-01-14 10:14:22  13.83  5739410935873   \n",
       "1  Lake Jonathanshire  2018-04-07 20:51:11  31.25  4441251834598   \n",
       "2  Lake Jonathanshire  2018-03-09 23:45:55  19.89  2389495660448   \n",
       "3  Lake Jonathanshire  2018-04-07 18:09:21  24.28  7796805191168   \n",
       "4  Lake Jonathanshire  2018-01-02 14:14:50  13.89   424254840012   \n",
       "\n",
       "   driver_count   type  \n",
       "0             5  Urban  \n",
       "1             5  Urban  \n",
       "2             5  Urban  \n",
       "3             5  Urban  \n",
       "4             5  Urban  "
      ]
     },
     "execution_count": 72,
     "metadata": {},
     "output_type": "execute_result"
    }
   ],
   "source": [
    "ride_data = pd.read_csv(ride_data_to_load)\n",
    "ride_data.head()\n",
    "\n",
    "# Combine the data into a single dataset\n",
    "city_ride_data = pd.merge(ride_data,city_data,on='city')\n",
    "city_ride_data.head()\n",
    "# Display the data table for preview"
   ]
  },
  {
   "cell_type": "markdown",
   "metadata": {},
   "source": [
    "## Bubble Plot of Ride Sharing Data"
   ]
  },
  {
   "cell_type": "code",
   "execution_count": 73,
   "metadata": {},
   "outputs": [
    {
     "ename": "SyntaxError",
     "evalue": "invalid syntax (<ipython-input-73-e2dbe2995a2f>, line 8)",
     "output_type": "error",
     "traceback": [
      "\u001b[1;36m  File \u001b[1;32m\"<ipython-input-73-e2dbe2995a2f>\"\u001b[1;36m, line \u001b[1;32m8\u001b[0m\n\u001b[1;33m    def color(variable) # input: city type -> return: color\u001b[0m\n\u001b[1;37m                                                           ^\u001b[0m\n\u001b[1;31mSyntaxError\u001b[0m\u001b[1;31m:\u001b[0m invalid syntax\n"
     ]
    }
   ],
   "source": [
    "# Obtain the x and y coordinates for each of the three city types\n",
    "city_types = city_ride_data.type.unique()\n",
    "# city_types\n",
    "# array(['Urban', 'Suburban', 'Rural'], dtype=object)\n",
    "\n",
    "colors = [\"gold\",\"skyblue\",\"lightcoral\"]\n",
    "# use function list(array)\n",
    "# def color(variable) # input: city type -> return: color\n",
    "#     index = 0\n",
    "#     for type in city_types:\n",
    "#         if type = variable:\n",
    "#             color = colors[index]\n",
    "#         index=+1\n",
    "\n",
    "for color in colors:\n",
    "    print(color)\n",
    "    idx=colors.index(color)\n",
    "    print(idx)\n",
    "    val=city_types[idx]\n",
    "    print(val)\n",
    "# for type in city_types:\n",
    "#     print(type)\n",
    "#     idx=city_types.index(type)\n",
    "#     print(idx)\n",
    "#     val=colors[idx]\n",
    "#     print(val)\n",
    "# dataframes for each city type\n",
    "# c_t = np.array(city_ride_data.type.unique().tolist())\n",
    "# c_t = np.array(city_types.tolist())\n",
    "# c_t = [list(map(int, input().split())) for i in range(N)]\n",
    "# c_t"
   ]
  },
  {
   "cell_type": "code",
   "execution_count": null,
   "metadata": {},
   "outputs": [],
   "source": [
    "# Could use a for loop with city_types.len()\n",
    "# urban = city_ride.loc[city_ride['type'] == city_types[0],:]\n",
    "# suburban = city_ride.loc[city_ride['type'] == city_types[1],:]\n",
    "# rural = city_ride.loc[city_ride['type'] == city_types[2],:]\n",
    "city_types = city_ride_data.type.unique()\n",
    "aggregation = { \n",
    "     'fare': 'mean' ,\n",
    "     'ride_id': 'nunique',\n",
    "     'driver_count': 'sum'\n",
    "}\n",
    "rides={type:pd.DataFrame(city_ride_data[city_ride_data.type == type].groupby(['city','type']).agg(aggregation)['ride_id']) for type in city_types} # works\n",
    "fares={type:pd.DataFrame(city_ride_data[city_ride_data.type == type].groupby(['city','type']).agg(aggregation)['fare']) for type in city_types} # works\n",
    "drivers={type:pd.DataFrame(city_ride_data[city_ride_data.type == type].groupby(['city','type']).agg(aggregation)['driver_count']) for type in city_types} # works\n",
    "# rides['Urban']\n",
    "# urban = city_ride_data[city_ride_data.type == 'Urban'].groupby(['city','type']).agg(aggregation)\n",
    "# suburban = city_ride_data[city_ride_data.type == 'Suburban'].groupby(['city','type']).agg(aggregation)\n",
    "# rural = city_ride_data[city_ride_data.type == 'Rural'].groupby(['city','type']).agg(aggregation)\n",
    "\n",
    "# # arrays for each city type dataframe\n",
    "# urban_rides = urban['ride_id']\n",
    "# urban_fares = urban['fare']\n",
    "# urban_drivers = urban['driver_count']\n",
    "# # urban_fares\n",
    "# suburban_rides = suburban['ride_id']\n",
    "# suburban_fares = suburban['fare']\n",
    "# suburban_drivers = suburban['driver_count']\n",
    "# # suburban_fares\n",
    "# rural_rides = rural['ride_id']\n",
    "# rural_fares = rural['fare']\n",
    "# rural_drivers = rural['driver_count']\n",
    "# # rural_fares\n",
    "\n",
    "# testing\n",
    "# d={type:pd.DataFrame() for type in city_types} # works\n",
    "# d={type:pd.DataFrame(['ride_id']) for type in city_types} # works\n",
    "# d={type:pd.DataFrame(city_ride_data.groupby(['city','type']).agg(aggregation)) for type in city_types} # works\n",
    "# d={type:pd.DataFrame(city_ride_data.groupby(['city','type']).agg(aggregation)['ride_id']) for type in city_types} # works\n",
    "# rides={type:pd.DataFrame(city_ride_data[city_ride_data.type == type].groupby(['city','type']).agg(aggregation)['ride_id']) for type in city_types} # works\n",
    "# fares={type:pd.DataFrame(city_ride_data[city_ride_data.type == type].groupby(['city','type']).agg(aggregation)['fare']) for type in city_types} # works\n",
    "# drivers={type:pd.DataFrame(city_ride_data[city_ride_data.type == type].groupby(['city','type']).agg(aggregation)['driver_count']) for type in city_types} # works\n",
    "# drivers"
   ]
  },
  {
   "cell_type": "code",
   "execution_count": null,
   "metadata": {},
   "outputs": [],
   "source": [
    "# Build the scatter plots for each city types\n",
    "{type: plt.scatter(rides[type],fares[type], s=drivers[type], alpha=0.6, edgecolors='black') for type in city_types} #works\n",
    "# {type: plt.scatter(rides[type],fares[type], s=drivers[type], alpha=0.6, edgecolors='black',c=colors[city_types.index(type)]) for type in city_types} #works\n",
    "#{type:plt.scatter(rides[type],fares[type], c='lightcoral', marker=None, cmap=None, norm=None, vmin=None, vmax=None, alpha=0.6, linewidths=None, verts=None, edgecolors='black',label=city_types[0])\n",
    "# plt.scatter(urban_rides,urban_fares, s=urban_drivers, c='lightcoral', marker=None, cmap=None, norm=None, vmin=None, vmax=None, alpha=0.6, linewidths=None, verts=None, edgecolors='black',label=city_types[0])\n",
    "# plt.scatter(suburban_rides,suburban_fares, s=suburban_drivers, c='skyblue', marker=None, cmap=None, norm=None, vmin=None, vmax=None, alpha=0.6, linewidths=None, verts=None, edgecolors='black',label=city_types[1])\n",
    "# plt.scatter(rural_rides,rural_fares, s=rural_drivers, c='gold', marker=None, cmap=None, norm=None, vmin=None, vmax=None, alpha=0.6, linewidths=None, verts=None, edgecolors='black',label=city_types[2])\n",
    "# Incorporate the other graph properties\n",
    "plt.xlabel('Total Number of Rides (Per City)', fontdict=None, labelpad=None)\n",
    "plt.ylabel('Average Fare ($)', fontdict=None, labelpad=None)\n",
    "plt.title('Pyber Ride Sharing Data (2016)', fontdict=None, loc='center', pad=None)\n",
    "plt.grid(b=None, which='major', axis='both')\n",
    "\n",
    "# Create a legend\n",
    "# legend=plt.legend(handles=[urban_scatter,suburban_scatter,rural_scatter],title='City Types',markerscale=0.2)\n",
    "# change the size of the legend color boxes\n",
    "# legend.legendHandles[0]._sizes = legend.legendHandles[1]._sizes = legend.legendHandles[2]._sizes = [40] #compliments of Tommy\n",
    "# Incorporate a text label regarding circle size\n",
    "plt.text(42,37,\"Note:\")\n",
    "plt.text(42,35,\"Circle size correlates with driver count per city\") #compliments of Tommy\n",
    "# Save Figure\n",
    "plt.savefig('pyber ride sharing data.png')"
   ]
  },
  {
   "cell_type": "code",
   "execution_count": null,
   "metadata": {},
   "outputs": [],
   "source": [
    "# Show plot\n",
    "plt.show()"
   ]
  },
  {
   "cell_type": "markdown",
   "metadata": {},
   "source": [
    "## Total Fares by City Type"
   ]
  },
  {
   "cell_type": "code",
   "execution_count": null,
   "metadata": {},
   "outputs": [],
   "source": [
    "# Calculate Type Percents\n",
    "aggregation = { \n",
    "     'fare': 'count', \n",
    "}\n",
    "total_fares_by_city_type = city_ride_data.groupby(['type']).agg(aggregation)\n",
    "total_fares_by_city_type['type_copy'] = total_fares_by_city_type.index\n",
    "total_types=total_fares_by_city_type.type_copy.tolist()\n",
    "total_fares=total_fares_by_city_type.fare.tolist()\n",
    "total_city_types=city_types\n",
    "colors = [\"gold\",\"skyblue\",\"lightcoral\"]\n",
    "explode = (0,0,0.1)\n",
    "\n",
    "\n",
    "# Build Pie Chart\n",
    "plt.pie(total_fares, explode=explode,labels=total_types, colors=colors,\n",
    "        autopct=\"%1.1f%%\", shadow=True, startangle=170)\n",
    "plt.title('% of Total Fares by City Type', fontdict=None, loc='center', pad=None)\n",
    "\n",
    "# w, h = plt.figaspect(5.)\n",
    "# fig = plt.Figure(figsize=(w, h))\n",
    "# ax = fig.add_axes([0.1, 0.1, 0.8, 0.8])\n",
    "# # Get current size\n",
    "# fig_size = plt.rcParams[\"figure.figsize\"]\n",
    " \n",
    "# # Prints: [8.0, 6.0]\n",
    "# print(\"Current size:\", fig_size)\n",
    " \n",
    "# # Set figure width to 12 and height to 9\n",
    "# fig_size[0] = 25\n",
    "# fig_size[1] = 4\n",
    "# plt.rcParams[\"figure.figsize\"] = fig_size\n",
    "\n",
    "# plt.figaspect(2.)\n",
    "\n",
    "# plt.axis([4, 1, 2, 1])\n",
    "\n",
    "# Save Figure\n",
    "plt.savefig('Total Fares by City Type.png')\n",
    "# show graph\n",
    "plt.show()"
   ]
  },
  {
   "cell_type": "code",
   "execution_count": null,
   "metadata": {},
   "outputs": [],
   "source": [
    "help(plt.figaspect)"
   ]
  },
  {
   "cell_type": "code",
   "execution_count": null,
   "metadata": {},
   "outputs": [],
   "source": [
    "# Show Figure\n",
    "plt.show()"
   ]
  },
  {
   "cell_type": "markdown",
   "metadata": {},
   "source": [
    "## Total Rides by City Type"
   ]
  },
  {
   "cell_type": "code",
   "execution_count": null,
   "metadata": {},
   "outputs": [],
   "source": [
    "# Calculate Type Percents\n",
    "aggregation = { \n",
    "     'ride_id': 'sum', \n",
    "}\n",
    "total_rides_by_city_type = city_ride_data.groupby(['type']).agg(aggregation)\n",
    "total_rides_by_city_type['type_copy'] = total_rides_by_city_type.index\n",
    "total_types=total_rides_by_city_type.type_copy.tolist()\n",
    "total_rides=total_rides_by_city_type.ride_id.tolist()\n",
    "total_city_types=city_types\n",
    "colors = [\"gold\",\"lightskyblue\",\"lightcoral\"]\n",
    "explode = (0,0,0.1)\n",
    "\n",
    "# Build Pie Chart\n",
    "plt.pie(total_rides, explode=explode,labels=total_types, colors=colors,\n",
    "        autopct=\"%1.1f%%\", shadow=True, startangle=150)\n",
    "plt.title('% of Total Rides by City Type', fontdict=None, loc='center', pad=None)\n",
    "# Save Figure\n",
    "plt.savefig('Total Rides by City Type.png')\n",
    "# show graph\n",
    "plt.show()\n"
   ]
  },
  {
   "cell_type": "code",
   "execution_count": null,
   "metadata": {},
   "outputs": [],
   "source": [
    "# Show Figure\n",
    "plt.show()"
   ]
  },
  {
   "cell_type": "markdown",
   "metadata": {},
   "source": [
    "## Total Drivers by City Type"
   ]
  },
  {
   "cell_type": "code",
   "execution_count": null,
   "metadata": {},
   "outputs": [],
   "source": [
    "# Calculate Type Percents\n",
    "aggregation = { \n",
    "     'driver_count': 'sum', \n",
    "}\n",
    "total_drivers_by_city_type = city_ride_data.groupby(['type']).agg(aggregation)\n",
    "total_drivers_by_city_type['type_copy'] = total_drivers_by_city_type.index\n",
    "total_types=total_drivers_by_city_type.type_copy.tolist()\n",
    "total_drivers=total_drivers_by_city_type.driver_count.tolist()\n",
    "total_city_types=city_types\n",
    "colors = [\"gold\",\"lightskyblue\",\"lightcoral\"]\n",
    "explode = (0,0,0.1)\n",
    "\n",
    "# Build Pie Chart\n",
    "plt.pie(total_drivers, explode=explode,labels=total_types, colors=colors,\n",
    "        autopct=\"%1.1f%%\", shadow=True, startangle=150)\n",
    "plt.title('% of Total Drivers by City Type', fontdict=None, loc='center', pad=None)\n",
    "# Save Figure\n",
    "plt.savefig('Total Drivers by City Type.png')\n",
    "# show graph\n",
    "plt.show()\n"
   ]
  },
  {
   "cell_type": "code",
   "execution_count": null,
   "metadata": {
    "scrolled": true
   },
   "outputs": [],
   "source": [
    "# Show Figure\n",
    "plt.show()"
   ]
  },
  {
   "cell_type": "code",
   "execution_count": null,
   "metadata": {},
   "outputs": [],
   "source": []
  }
 ],
 "metadata": {
  "anaconda-cloud": {},
  "kernelspec": {
   "display_name": "Python 3",
   "language": "python",
   "name": "python3"
  },
  "language_info": {
   "codemirror_mode": {
    "name": "ipython",
    "version": 3
   },
   "file_extension": ".py",
   "mimetype": "text/x-python",
   "name": "python",
   "nbconvert_exporter": "python",
   "pygments_lexer": "ipython3",
   "version": "3.7.1"
  }
 },
 "nbformat": 4,
 "nbformat_minor": 2
}
